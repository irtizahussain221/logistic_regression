{
 "cells": [
  {
   "cell_type": "code",
   "execution_count": 3,
   "metadata": {},
   "outputs": [
    {
     "name": "stderr",
     "output_type": "stream",
     "text": [
      "c:\\Users\\irtizahussain\\Anaconda3\\lib\\site-packages\\scipy\\__init__.py:146: UserWarning: A NumPy version >=1.16.5 and <1.23.0 is required for this version of SciPy (detected version 1.26.4\n",
      "  warnings.warn(f\"A NumPy version >={np_minversion} and <{np_maxversion}\"\n"
     ]
    }
   ],
   "source": [
    "import numpy as np\n",
    "import cv2\n",
    "import os\n",
    "from sklearn.model_selection import train_test_split\n",
    "from matplotlib import pyplot as plt"
   ]
  },
  {
   "cell_type": "code",
   "execution_count": 4,
   "metadata": {},
   "outputs": [],
   "source": [
    "def load_images_from_folder(folder_name: str, label: int):\n",
    "    images = []\n",
    "    \n",
    "    # Only select first 290 images for reducing computation time\n",
    "    image_files = [f for f in os.listdir(folder_name) if f.endswith(('.jpg', '.jpeg', '.png'))][:290]\n",
    "    \n",
    "    for image_file in image_files:\n",
    "        image_path = os.path.join(folder_name, image_file)\n",
    "        \n",
    "        # Read image\n",
    "        img = cv2.imread(image_path)\n",
    "        if img is None:\n",
    "            continue\n",
    "        \n",
    "        # Resize image to 64x64\n",
    "        img_resized = cv2.resize(img, (64, 64))\n",
    "        \n",
    "        # Convert image to numpy array and normalize\n",
    "        img_array = img_resized.astype(np.float32) / 255.0\n",
    "        \n",
    "        # Flatten the image array and append to list\n",
    "        images.append(img_array.flatten())\n",
    "    \n",
    "    # Convert list to numpy array\n",
    "    images_array = np.array(images).T  # Transpose to get shape (number_of_pixels, number_of_images)\n",
    "    \n",
    "    # Create labels array\n",
    "    labels_array = np.full((1, images_array.shape[1]), label)\n",
    "    \n",
    "    return images_array, labels_array"
   ]
  },
  {
   "cell_type": "code",
   "execution_count": 5,
   "metadata": {},
   "outputs": [
    {
     "name": "stdout",
     "output_type": "stream",
     "text": [
      "Images array shape: (12288, 578)\n",
      "Labels array shape: (1, 578)\n"
     ]
    }
   ],
   "source": [
    "cat_images, cat_labels = load_images_from_folder(\"PetImages/Cat\", 1)\n",
    "dog_images, dog_labels = load_images_from_folder(\"PetImages/Dog\", 0)\n",
    "# Combine cats and dogs arrays\n",
    "combined_images_array = np.hstack((cat_images, dog_images))\n",
    "combined_labels_array = np.hstack((cat_labels, dog_labels))\n",
    "\n",
    "# Save or use the combined arrays as needed\n",
    "print(f\"Images array shape: {combined_images_array.shape}\")\n",
    "print(f\"Labels array shape: {combined_labels_array.shape}\")\n"
   ]
  },
  {
   "cell_type": "code",
   "execution_count": 6,
   "metadata": {},
   "outputs": [],
   "source": [
    "def shuffle_and_split_data(\n",
    "    images_array, labels_array, test_size=0.2, random_state=None\n",
    "):\n",
    "    # Generate indices and shuffle them\n",
    "    num_images = images_array.shape[1]\n",
    "    indices = np.arange(num_images)\n",
    "    np.random.shuffle(indices)\n",
    "\n",
    "    # Apply shuffle to images and labels\n",
    "    images_array_shuffled = images_array[:, indices]\n",
    "    labels_array_shuffled = labels_array[:, indices]\n",
    "\n",
    "    # Split the data into training and testing sets\n",
    "    train_images, test_images, train_labels, test_labels = train_test_split(\n",
    "        images_array_shuffled.T,  # Transpose back to (number_of_images, number_of_pixels)\n",
    "        labels_array_shuffled.T,  # Transpose back to (number_of_images, 1)\n",
    "        test_size=test_size,\n",
    "        random_state=random_state,\n",
    "    )\n",
    "\n",
    "    # Transpose back to (number_of_pixels, number_of_images) for consistency\n",
    "    train_images = train_images.T\n",
    "    test_images = test_images.T\n",
    "    train_labels = train_labels.T\n",
    "    test_labels = test_labels.T\n",
    "\n",
    "    return (train_images, train_labels), (test_images, test_labels)"
   ]
  },
  {
   "cell_type": "code",
   "execution_count": 7,
   "metadata": {},
   "outputs": [
    {
     "data": {
      "text/plain": [
       "((12288, 462), (1, 462), (12288, 116), (1, 116))"
      ]
     },
     "execution_count": 7,
     "metadata": {},
     "output_type": "execute_result"
    }
   ],
   "source": [
    "(x_train, y_train), (x_test, y_test) = shuffle_and_split_data(\n",
    "    combined_images_array,\n",
    "    combined_labels_array,\n",
    "    test_size=0.2,  # 20% of the data for testing\n",
    "    random_state=42  # For reproducibility\n",
    ")\n",
    "x_train.shape, y_train.shape, x_test.shape, y_test.shape"
   ]
  },
  {
   "cell_type": "code",
   "execution_count": 8,
   "metadata": {},
   "outputs": [],
   "source": [
    "def sigmoid(z: np.ndarray) -> np.ndarray:\n",
    "    return 1 / (1 + np.exp(-z))"
   ]
  },
  {
   "cell_type": "code",
   "execution_count": 9,
   "metadata": {},
   "outputs": [],
   "source": [
    "def tanh(z: np.ndarray) -> np.ndarray:\n",
    "    return np.tanh(z)"
   ]
  },
  {
   "cell_type": "code",
   "execution_count": 10,
   "metadata": {},
   "outputs": [],
   "source": [
    "def initialize_with_zeros(dimensions: tuple) -> tuple[np.ndarray, int]:\n",
    "    w = np.zeros(dimensions)\n",
    "    b = 0\n",
    "    return w, b"
   ]
  },
  {
   "cell_type": "code",
   "execution_count": 11,
   "metadata": {},
   "outputs": [],
   "source": [
    "def propagate(\n",
    "    w: np.ndarray, b: int, X: np.ndarray, Y: np.ndarray\n",
    ") -> tuple:\n",
    "    m = X.shape[1]  # number of images\n",
    "\n",
    "    # Number of columns in w.T should be equal to the number of rows in X\n",
    "    # In this case, if each image is 64*64, then w.T should be (1, 12288) and X should be (12288, number_of_images)\n",
    "    # A would be (1, number_of_images)\n",
    "\n",
    "    # Forward propagation\n",
    "\n",
    "    A = sigmoid(np.dot(w.T, X) + b)\n",
    "\n",
    "    cost = (-1 / m) * (np.dot(Y, np.log(A + 1e-8).T) + np.dot((1 - Y), np.log(1 - A + 1e-8).T))\n",
    "    cost = np.squeeze(cost)\n",
    "\n",
    "    # Backward propagation\n",
    "    dw = (1 / m) * (np.dot(X, (A - Y).T))\n",
    "    db = (1 / m) * np.sum((A - Y))\n",
    "\n",
    "    return dw, db, cost"
   ]
  },
  {
   "cell_type": "code",
   "execution_count": 12,
   "metadata": {},
   "outputs": [],
   "source": [
    "def optimize(\n",
    "    w: np.ndarray,\n",
    "    b: int,\n",
    "    num_iterations: int,\n",
    "    learning_rate: float,\n",
    "    X: np.ndarray,\n",
    "    Y: np.ndarray,\n",
    ") -> tuple[np.ndarray, int, list[float]]:\n",
    "    costs = []\n",
    "    for i in range(num_iterations):\n",
    "        dw, db, cost = propagate(w, b, X, Y)\n",
    "        w = w - learning_rate * dw\n",
    "        b = b - learning_rate * db\n",
    "\n",
    "        if i % 100 == 0:\n",
    "            print(\"Cost after iteration %i: %f\" % (i, cost))\n",
    "\n",
    "        costs.append(cost)\n",
    "\n",
    "    return w, b, costs\n"
   ]
  },
  {
   "cell_type": "code",
   "execution_count": 13,
   "metadata": {},
   "outputs": [],
   "source": [
    "def model_with_sigmoid_function(num_iterations: int, learning_rate: float, X_train: np.ndarray, X_test: np.ndarray, Y_train: np.ndarray, Y_test: np.ndarray) -> dict:\n",
    "    w, b = initialize_with_zeros((X_train.shape[0], 1))\n",
    "\n",
    "    w, b, costs = optimize(w, b, num_iterations, learning_rate, X_train, Y_train)\n",
    "\n",
    "    y_prediction_train = sigmoid(np.dot(w.T, X_train) + b)\n",
    "    y_prediction_test = sigmoid(np.dot(w.T, X_test) + b)\n",
    "\n",
    "    for i in range(y_prediction_train.shape[1]):\n",
    "        if y_prediction_train[0, i] > 0.5:\n",
    "            y_prediction_train[0, i] = 1\n",
    "        else:\n",
    "            y_prediction_train[0, i] = 0\n",
    "\n",
    "    for i in range(y_prediction_test.shape[1]):\n",
    "        if y_prediction_test[0, i] > 0.5:\n",
    "            y_prediction_test[0, i] = 1\n",
    "        else:\n",
    "            y_prediction_test[0, i] = 0\n",
    "            \n",
    "            \n",
    "    print(\"train accuracy: {} %\".format(100 - np.mean(np.abs(y_prediction_train - Y_train)) * 100))\n",
    "    print(\"test accuracy: {} %\".format(100 - np.mean(np.abs(y_prediction_test - Y_test)) * 100))\n",
    "\n",
    "    return {\n",
    "        \"w\": w,\n",
    "        \"b\": b,\n",
    "        \"costs\": costs,\n",
    "        \"y_prediction_train\": y_prediction_train,\n",
    "        \"y_prediction_test\": y_prediction_test,\n",
    "        \"learning_rate\": learning_rate,\n",
    "    }"
   ]
  },
  {
   "cell_type": "code",
   "execution_count": 14,
   "metadata": {},
   "outputs": [],
   "source": [
    "def model_with_tanh_function(num_iterations: int, learning_rate: float, X_train: np.ndarray, X_test: np.ndarray, Y_train: np.ndarray, Y_test: np.ndarray) -> dict:\n",
    "    w, b = initialize_with_zeros((X_train.shape[0], 1))\n",
    "\n",
    "    w, b, costs = optimize(w, b, num_iterations, learning_rate, X_train, Y_train)\n",
    "\n",
    "    y_prediction_train = tanh(np.dot(w.T, X_train) + b)\n",
    "    y_prediction_test = tanh(np.dot(w.T, X_test) + b)\n",
    "\n",
    "    for i in range(y_prediction_train.shape[1]):\n",
    "        if y_prediction_train[0, i] > 0:\n",
    "            y_prediction_train[0, i] = 1\n",
    "        else:\n",
    "            y_prediction_train[0, i] = 0\n",
    "\n",
    "    for i in range(y_prediction_test.shape[1]):\n",
    "        if y_prediction_test[0, i] > 0.5:\n",
    "            y_prediction_test[0, i] = 1\n",
    "        else:\n",
    "            y_prediction_test[0, i] = 0\n",
    "            \n",
    "            \n",
    "    print(\"train accuracy: {} %\".format(100 - np.mean(np.abs(y_prediction_train - Y_train)) * 100))\n",
    "    print(\"test accuracy: {} %\".format(100 - np.mean(np.abs(y_prediction_test - Y_test)) * 100))\n",
    "\n",
    "    return {\n",
    "        \"w\": w,\n",
    "        \"b\": b,\n",
    "        \"costs\": costs,\n",
    "        \"y_prediction_train\": y_prediction_train,\n",
    "        \"y_prediction_test\": y_prediction_test,\n",
    "        \"learning_rate\": learning_rate,\n",
    "    }"
   ]
  },
  {
   "cell_type": "code",
   "execution_count": 15,
   "metadata": {},
   "outputs": [
    {
     "name": "stdout",
     "output_type": "stream",
     "text": [
      "Sigmoid Function\n",
      "Cost after iteration 0: 0.693147\n",
      "Cost after iteration 100: 1.219096\n",
      "Cost after iteration 200: 1.081876\n",
      "Cost after iteration 300: 0.971606\n",
      "Cost after iteration 400: 0.883406\n",
      "Cost after iteration 500: 0.810278\n",
      "Cost after iteration 600: 0.746951\n",
      "Cost after iteration 700: 0.690288\n",
      "Cost after iteration 800: 0.638483\n",
      "Cost after iteration 900: 0.590444\n",
      "Cost after iteration 1000: 0.545469\n",
      "Cost after iteration 1100: 0.503072\n",
      "Cost after iteration 1200: 0.462899\n",
      "Cost after iteration 1300: 0.424669\n",
      "Cost after iteration 1400: 0.388171\n",
      "Cost after iteration 1500: 0.353298\n",
      "Cost after iteration 1600: 0.320243\n",
      "Cost after iteration 1700: 0.290332\n",
      "Cost after iteration 1800: 0.268685\n",
      "Cost after iteration 1900: 0.258786\n",
      "Cost after iteration 2000: 0.251910\n",
      "Cost after iteration 2100: 0.245455\n",
      "Cost after iteration 2200: 0.239341\n",
      "Cost after iteration 2300: 0.233530\n",
      "Cost after iteration 2400: 0.227994\n",
      "train accuracy: 97.83549783549783 %\n",
      "test accuracy: 56.03448275862069 %\n",
      "Tanh Function\n",
      "Cost after iteration 0: 0.693147\n",
      "Cost after iteration 100: 1.219096\n",
      "Cost after iteration 200: 1.081876\n",
      "Cost after iteration 300: 0.971606\n",
      "Cost after iteration 400: 0.883406\n",
      "Cost after iteration 500: 0.810278\n",
      "Cost after iteration 600: 0.746951\n",
      "Cost after iteration 700: 0.690288\n",
      "Cost after iteration 800: 0.638483\n",
      "Cost after iteration 900: 0.590444\n",
      "Cost after iteration 1000: 0.545469\n",
      "Cost after iteration 1100: 0.503072\n",
      "Cost after iteration 1200: 0.462899\n",
      "Cost after iteration 1300: 0.424669\n",
      "Cost after iteration 1400: 0.388171\n",
      "Cost after iteration 1500: 0.353298\n",
      "Cost after iteration 1600: 0.320243\n",
      "Cost after iteration 1700: 0.290332\n",
      "Cost after iteration 1800: 0.268685\n",
      "Cost after iteration 1900: 0.258786\n",
      "Cost after iteration 2000: 0.251910\n",
      "Cost after iteration 2100: 0.245455\n",
      "Cost after iteration 2200: 0.239341\n",
      "Cost after iteration 2300: 0.233530\n",
      "Cost after iteration 2400: 0.227994\n",
      "train accuracy: 97.83549783549783 %\n",
      "test accuracy: 58.62068965517241 %\n"
     ]
    }
   ],
   "source": [
    "print(\"Sigmoid Function\")\n",
    "\n",
    "logistic_regression_model_with_sigmoid_function = model_with_sigmoid_function(\n",
    "    2500, 0.005, x_train, x_test, y_train, y_test\n",
    ")\n",
    "print(\"Tanh Function\")\n",
    "\n",
    "logistic_regression_model_with_tanh_function = model_with_tanh_function(\n",
    "    2500, 0.005, x_train, x_test, y_train, y_test\n",
    ")"
   ]
  },
  {
   "cell_type": "code",
   "execution_count": 16,
   "metadata": {},
   "outputs": [
    {
     "data": {
      "image/png": "[encoded data removed]",
      "text/plain": [
       "<Figure size 432x288 with 1 Axes>"
      ]
     },
     "metadata": {
      "needs_background": "light"
     },
     "output_type": "display_data"
    },
    {
     "data": {
      "image/png": "[encoded data removed]",
      "text/plain": [
       "<Figure size 432x288 with 1 Axes>"
      ]
     },
     "metadata": {
      "needs_background": "light"
     },
     "output_type": "display_data"
    }
   ],
   "source": [
    "X = np.arange(0, 2500, 1)\n",
    "\n",
    "plt.plot(\n",
    "    X,\n",
    "    logistic_regression_model_with_sigmoid_function[\"costs\"],\n",
    "    label=\"Sigmoid function\",\n",
    "    color=\"blue\",\n",
    ")\n",
    "plt.ylabel(\"cost\")\n",
    "\n",
    "plt.xlabel(\"iterations (per hundreds)\")\n",
    "\n",
    "plt.title(\n",
    "    \"Learning rate =\"\n",
    "    + str(logistic_regression_model_with_sigmoid_function[\"learning_rate\"])\n",
    ")\n",
    "plt.show()\n",
    "\n",
    "plt.plot(\n",
    "    X,\n",
    "    logistic_regression_model_with_tanh_function[\"costs\"],\n",
    "    label=\"Tanh function\",\n",
    "    color=\"green\",\n",
    ")\n",
    "plt.ylabel(\"cost\")\n",
    "plt.xlabel(\"iterations (per hundreds)\")\n",
    "plt.title(\n",
    "    \"Learning rate =\"\n",
    "    + str(logistic_regression_model_with_tanh_function[\"learning_rate\"])\n",
    ")\n",
    "plt.show()"
   ]
  },
  {
   "cell_type": "code",
   "execution_count": null,
   "metadata": {},
   "outputs": [],
   "source": []
  }
 ],
 "metadata": {
  "kernelspec": {
   "display_name": "base",
   "language": "python",
   "name": "python3"
  },
  "language_info": {
   "codemirror_mode": {
    "name": "ipython",
    "version": 3
   },
   "file_extension": ".py",
   "mimetype": "text/x-python",
   "name": "python",
   "nbconvert_exporter": "python",
   "pygments_lexer": "ipython3",
   "version": "3.9.7"
  }
 },
 "nbformat": 4,
 "nbformat_minor": 2
}
